{
 "cells": [
  {
   "cell_type": "markdown",
   "id": "4f7e58dc-172d-49ec-821a-5bd9235cbbf2",
   "metadata": {},
   "source": [
    "# Basic steps of ML\n",
    "\n",
    "1. **Data Collection**\n",
    "2. **Data Preprocessing**( done by human)\n",
    "3. **Model Selection** (Selecting the type of algo which needs to be trained)\n",
    "4. **Model training** ( We feed the data to the model in the form of inputs, outputs by using .fit method)\n",
    "5. **Model Testing/Prediction** ( We test the model by using .predict method)"
   ]
  },
  {
   "cell_type": "markdown",
   "id": "fd283694-5d42-404e-b1d0-214a1c47bccc",
   "metadata": {},
   "source": [
    "### Model can be classified into 3 types\n",
    "\n",
    "1. **Supervised learning** ( Data with known outputs) - has the best accuracy and trustworthy\n",
    "2. **Un-Supervised learning** ( Data with unknown outputs(labels)) - not the most accurate\n",
    "3. **Reinforcement learning** ( Data trained with previous experiences) "
   ]
  },
  {
   "cell_type": "markdown",
   "id": "4d136196-abcd-4389-ab03-eaa6ac36f272",
   "metadata": {},
   "source": [
    "### Supervised learning \n",
    "1. **Regression** - predicts based on patterns (can make own predictions)\n",
    "2. **Classification** - predict only if it is trained on the data pattern, if not cannot predict (cannot make own predictions)"
   ]
  },
  {
   "cell_type": "markdown",
   "id": "e4e90ad1-630f-4286-bd9b-4eb360cdc244",
   "metadata": {},
   "source": [
    "### Unsupervised Learning\n",
    "\n",
    "1. **Clustering** - Ml technique designed to group unlabelled examples based on similarities\n",
    "2. **Association** - A rule based ML algo method for discovering relations between variables in large dataset"
   ]
  },
  {
   "cell_type": "code",
   "execution_count": 6,
   "id": "53765d57-9799-48ce-8145-6bab5a03d004",
   "metadata": {},
   "outputs": [
    {
     "name": "stdout",
     "output_type": "stream",
     "text": [
      "[  70.  483. 2940.]\n",
      "Linear Regression:  1.0\n",
      "[35 35 35]\n",
      "SVC:  1.0\n"
     ]
    }
   ],
   "source": [
    "import numpy as np\n",
    "from sklearn.svm import SVC\n",
    "from sklearn.linear_model import LinearRegression\n",
    "\n",
    "inputs = np.array([[1],[2],[3],[4],[5]])\n",
    "outputs = np.array([7,14,21,28,35])\n",
    "alg =SVC()\n",
    "alg.fit(inputs, outputs)\n",
    "model = LinearRegression()\n",
    "model.fit(inputs, outputs)\n",
    "result1 = model.predict(np.array([[10],[69],[420]]))\n",
    "result2 = alg.predict(np.array([[10],[69],[420]]))\n",
    "print(result1)\n",
    "print(\"Linear Regression: \",model.score(inputs, outputs))\n",
    "print(result2)\n",
    "print(\"SVC: \",alg.score(inputs, outputs))\n",
    "\n"
   ]
  },
  {
   "cell_type": "markdown",
   "id": "fe6c82c9",
   "metadata": {},
   "source": [
    "## Model Performance Metrics\n",
    "\n",
    "To evaluate the effectiveness and efficiency of a model\n",
    "\n",
    "#### TP TN FP FN\n",
    "\n",
    "**TP** : True Positive  \n",
    "**TN** : True Negative  \n",
    "**FP** : False Positive  \n",
    "**FN** : False Negative  \n",
    "\n"
   ]
  },
  {
   "cell_type": "markdown",
   "id": "a137600e",
   "metadata": {},
   "source": [
    "### Accuracy\n",
    "ie no of correct predictions\n",
    "\n",
    "**Accuracy** = (TP+TN) / (TP+TN+FP+FN)"
   ]
  },
  {
   "cell_type": "markdown",
   "id": "99e0e62b",
   "metadata": {},
   "source": [
    "### Precision\n",
    "\n",
    "tells us how many predictions made by the model are actually correct. Essentially used when the FP's are high.  \n",
    "The importance of precision is in  eg: Video recommendation systems, e-commerce websites.   \n",
    "It gives us insight into the model's ability to avoid false positives.\n",
    "\n",
    "**Precision** = TP / (TP + FP)"
   ]
  },
  {
   "cell_type": "markdown",
   "id": "904ae56b",
   "metadata": {},
   "source": [
    "### Recall(Sensitivity)\n",
    "Also known as the sensitivity of true positive rate, recall measures the proportion of true positive predictions among all actual positive instances in the dataset. It gives us insights into model's ability to avoid false negatives.  \n",
    "It is calculated as -  \n",
    "**Recall** = TP / (TP + FN)\n",
    "\n",
    "TP : patients correctly diagnosed with the disease  \n",
    "FP : patients incorrectly diagnosed with the disease  \n",
    "FN : patients with the disease incorrectly diagnosed as not having the disease  \n",
    "TN : patients with the disease correctly diagnosed as not having the disease\n"
   ]
  },
  {
   "cell_type": "markdown",
   "id": "1a50507b",
   "metadata": {},
   "source": [
    "## Precision vs Recall\n",
    "\n",
    "1. Precision can be seen as a measure of quality.  1. Recall can be seen as a measure of quantity.\n",
    "2. Higher precision means that an algo returns more relevant results than irrelevant ones. 1. Higher recall means that an algo returns mosrt of the relevant results (whether irrelevant ones are also returned).\n",
    "3. Precision measures the accuracy of positive precisions. 3. Recall measures the complete correctness of the predictions"
   ]
  },
  {
   "cell_type": "markdown",
   "id": "96b8973f",
   "metadata": {
    "vscode": {
     "languageId": "markdown"
    }
   },
   "source": [
    "## Differences between Precision and Recall\n",
    "\n",
    "1. **Precision** is seen as a measure of quality, while **Recall** is seen as a measure of quantity.\n",
    "2. Higher **Precision** means that an algorithm returns more relevant results than irrelevant ones, whereas higher **Recall** means that an algorithm returns most of the relevant results (even if irrelevant ones are also returned).\n",
    "3. **Precision** measures the accuracy of positive predictions, while **Recall** measures the completeness of the predictions.\n",
    "4. **Precision** is crucial in scenarios where false positives are costly, such as spam detection or fraud detection.  \n",
    "    **Recall** is crucial in scenarios where false negatives are costly, such as disease diagnosis or search-and-rescue operations.\n",
    "\n",
    "### Example:\n",
    "- In a **spam email classifier**:\n",
    "  - **Precision** ensures that emails classified as spam are truly spam (avoiding false positives like important emails being marked as spam).\n",
    "  - **Recall** ensures that most spam emails are identified (avoiding false negatives like spam emails being missed).\n",
    "\n",
    "- In a **medical diagnosis system**:\n",
    "  - **Precision** ensures that patients diagnosed with a disease truly have the disease (avoiding false positives like unnecessary treatments).\n",
    "  - **Recall** ensures that most patients with the disease are correctly diagnosed (avoiding false negatives like missing a diagnosis).  "
   ]
  },
  {
   "cell_type": "markdown",
   "id": "eb31fe37",
   "metadata": {},
   "source": [
    "## Student Score Model"
   ]
  },
  {
   "cell_type": "code",
   "execution_count": 12,
   "id": "690ce73c",
   "metadata": {},
   "outputs": [
    {
     "name": "stdout",
     "output_type": "stream",
     "text": [
      "['better luck next time' 'pass' 'good score keep going' 'first class'\n",
      " 'just missed distinction' 'distinction congrats']\n",
      "SVC:  1.0\n"
     ]
    }
   ],
   "source": [
    "import numpy as np\n",
    "from sklearn.svm import SVC\n",
    "from sklearn.linear_model import LinearRegression\n",
    "\n",
    "inputs = np.array([[20],[34],[35],[59],[60],[74],[75]])\n",
    "outputs = np.array(['fail','better luck next time','pass','good score keep going','first class','just missed distinction','distinction congrats'])\n",
    "alg =SVC()\n",
    "alg.fit(inputs, outputs)\n",
    "# model = LinearRegression()\n",
    "# model.fit(inputs, outputs)\n",
    "# result1 = model.predict(np.array([[10],[69],[420]]))\n",
    "result2 = alg.predict(np.array([[34],[36],[58],[61],[73],[78]]))\n",
    "# print(result1)\n",
    "# print(\"Linear Regression: \",model.score(inputs, outputs))\n",
    "print(result2)\n",
    "print(\"SVC: \",alg.score(inputs, outputs))\n",
    "\n"
   ]
  },
  {
   "cell_type": "code",
   "execution_count": null,
   "id": "9cdac78a",
   "metadata": {},
   "outputs": [],
   "source": []
  }
 ],
 "metadata": {
  "kernelspec": {
   "display_name": "Python 3",
   "language": "python",
   "name": "python3"
  },
  "language_info": {
   "codemirror_mode": {
    "name": "ipython",
    "version": 3
   },
   "file_extension": ".py",
   "mimetype": "text/x-python",
   "name": "python",
   "nbconvert_exporter": "python",
   "pygments_lexer": "ipython3",
   "version": "3.12.6"
  }
 },
 "nbformat": 4,
 "nbformat_minor": 5
}
