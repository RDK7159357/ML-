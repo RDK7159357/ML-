{
 "cells": [
  {
   "cell_type": "markdown",
   "id": "4f7e58dc-172d-49ec-821a-5bd9235cbbf2",
   "metadata": {},
   "source": [
    "# Basic steps of ML\n",
    "\n",
    "1. **Data Collection**\n",
    "2. **Data Preprocessing**( done by human)\n",
    "3. **Model Selection** (Selecting the type of algo which needs to be trained)\n",
    "4. **Model training** ( We feed the data to the model in the form of inputs, outputs by using .fit method)\n",
    "5. **Model Testing/Prediction** ( We test the model by using .predict method)"
   ]
  },
  {
   "cell_type": "markdown",
   "id": "fd283694-5d42-404e-b1d0-214a1c47bccc",
   "metadata": {},
   "source": [
    "### Model can be classified into 3 types\n",
    "\n",
    "1. **Supervised learning** ( Data with known outputs) - has the best accuracy and trustworthy\n",
    "2. **Un-Supervised learning** ( Data with unknown outputs(labels)) - not the most accurate\n",
    "3. **Reinforcement learning** ( Data trained with previous experiences) "
   ]
  },
  {
   "cell_type": "markdown",
   "id": "4d136196-abcd-4389-ab03-eaa6ac36f272",
   "metadata": {},
   "source": [
    "### Supervised learning \n",
    "1. **Regression** - predicts based on patterns\n",
    "2. **Classification** - predict only if it is trained on the data pattern, if not cannot predict"
   ]
  },
  {
   "cell_type": "markdown",
   "id": "e4e90ad1-630f-4286-bd9b-4eb360cdc244",
   "metadata": {},
   "source": [
    "### Unsupervised Learning\n",
    "\n",
    "1. **Clustering** - Ml technique designed to group unlabelled examples based on similarities\n",
    "2. **Association** - A rule based ML algo method for discovering relations between/w variables in large dataset"
   ]
  },
  {
   "cell_type": "code",
   "execution_count": null,
   "id": "53765d57-9799-48ce-8145-6bab5a03d004",
   "metadata": {},
   "outputs": [],
   "source": [
    "import numpy as np\n",
    "\n",
    "inputs = np.array([[1],[2],[3],[4],[5]])\n",
    "outputs = np.array([7,14,21,28,35])\n"
   ]
  }
 ],
 "metadata": {
  "kernelspec": {
   "display_name": "Python 3 (ipykernel)",
   "language": "python",
   "name": "python3"
  },
  "language_info": {
   "codemirror_mode": {
    "name": "ipython",
    "version": 3
   },
   "file_extension": ".py",
   "mimetype": "text/x-python",
   "name": "python",
   "nbconvert_exporter": "python",
   "pygments_lexer": "ipython3",
   "version": "3.13.2"
  }
 },
 "nbformat": 4,
 "nbformat_minor": 5
}
